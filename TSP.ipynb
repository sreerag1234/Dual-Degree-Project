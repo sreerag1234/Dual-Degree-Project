{
  "nbformat": 4,
  "nbformat_minor": 0,
  "metadata": {
    "colab": {
      "provenance": []
    },
    "kernelspec": {
      "name": "python3",
      "display_name": "Python 3"
    },
    "language_info": {
      "name": "python"
    }
  },
  "cells": [
    {
      "cell_type": "code",
      "source": [
        "!pip install pulp pyomo gekko"
      ],
      "metadata": {
        "colab": {
          "base_uri": "https://localhost:8080/"
        },
        "id": "-lGfCxMdbotr",
        "outputId": "6d11823d-2a75-4c26-b107-f97f63d9eb12"
      },
      "execution_count": 1,
      "outputs": [
        {
          "output_type": "stream",
          "name": "stdout",
          "text": [
            "Collecting pulp\n",
            "  Downloading PuLP-2.9.0-py3-none-any.whl.metadata (5.4 kB)\n",
            "Collecting pyomo\n",
            "  Downloading Pyomo-6.8.0-cp310-cp310-manylinux_2_17_x86_64.manylinux2014_x86_64.whl.metadata (8.0 kB)\n",
            "Collecting gekko\n",
            "  Downloading gekko-1.2.1-py3-none-any.whl.metadata (3.0 kB)\n",
            "Collecting ply (from pyomo)\n",
            "  Downloading ply-3.11-py2.py3-none-any.whl.metadata (844 bytes)\n",
            "Requirement already satisfied: numpy>=1.8 in /usr/local/lib/python3.10/dist-packages (from gekko) (1.26.4)\n",
            "Downloading PuLP-2.9.0-py3-none-any.whl (17.7 MB)\n",
            "\u001b[2K   \u001b[90m━━━━━━━━━━━━━━━━━━━━━━━━━━━━━━━━━━━━━━━━\u001b[0m \u001b[32m17.7/17.7 MB\u001b[0m \u001b[31m41.0 MB/s\u001b[0m eta \u001b[36m0:00:00\u001b[0m\n",
            "\u001b[?25hDownloading Pyomo-6.8.0-cp310-cp310-manylinux_2_17_x86_64.manylinux2014_x86_64.whl (13.3 MB)\n",
            "\u001b[2K   \u001b[90m━━━━━━━━━━━━━━━━━━━━━━━━━━━━━━━━━━━━━━━━\u001b[0m \u001b[32m13.3/13.3 MB\u001b[0m \u001b[31m53.6 MB/s\u001b[0m eta \u001b[36m0:00:00\u001b[0m\n",
            "\u001b[?25hDownloading gekko-1.2.1-py3-none-any.whl (13.2 MB)\n",
            "\u001b[2K   \u001b[90m━━━━━━━━━━━━━━━━━━━━━━━━━━━━━━━━━━━━━━━━\u001b[0m \u001b[32m13.2/13.2 MB\u001b[0m \u001b[31m20.5 MB/s\u001b[0m eta \u001b[36m0:00:00\u001b[0m\n",
            "\u001b[?25hDownloading ply-3.11-py2.py3-none-any.whl (49 kB)\n",
            "\u001b[2K   \u001b[90m━━━━━━━━━━━━━━━━━━━━━━━━━━━━━━━━━━━━━━━━\u001b[0m \u001b[32m49.6/49.6 kB\u001b[0m \u001b[31m3.0 MB/s\u001b[0m eta \u001b[36m0:00:00\u001b[0m\n",
            "\u001b[?25hInstalling collected packages: ply, pyomo, pulp, gekko\n",
            "Successfully installed gekko-1.2.1 ply-3.11 pulp-2.9.0 pyomo-6.8.0\n"
          ]
        }
      ]
    },
    {
      "cell_type": "code",
      "source": [
        "!pip install ortools"
      ],
      "metadata": {
        "colab": {
          "base_uri": "https://localhost:8080/"
        },
        "id": "tPgCRFRobrRL",
        "outputId": "6de746ba-e4e0-4261-94a1-7976e351acf9"
      },
      "execution_count": 2,
      "outputs": [
        {
          "output_type": "stream",
          "name": "stdout",
          "text": [
            "Collecting ortools\n",
            "  Downloading ortools-9.11.4210-cp310-cp310-manylinux_2_17_x86_64.manylinux2014_x86_64.whl.metadata (3.0 kB)\n",
            "Collecting absl-py>=2.0.0 (from ortools)\n",
            "  Downloading absl_py-2.1.0-py3-none-any.whl.metadata (2.3 kB)\n",
            "Requirement already satisfied: numpy>=1.13.3 in /usr/local/lib/python3.10/dist-packages (from ortools) (1.26.4)\n",
            "Requirement already satisfied: pandas>=2.0.0 in /usr/local/lib/python3.10/dist-packages (from ortools) (2.2.2)\n",
            "Collecting protobuf<5.27,>=5.26.1 (from ortools)\n",
            "  Downloading protobuf-5.26.1-cp37-abi3-manylinux2014_x86_64.whl.metadata (592 bytes)\n",
            "Requirement already satisfied: immutabledict>=3.0.0 in /usr/local/lib/python3.10/dist-packages (from ortools) (4.2.0)\n",
            "Requirement already satisfied: python-dateutil>=2.8.2 in /usr/local/lib/python3.10/dist-packages (from pandas>=2.0.0->ortools) (2.8.2)\n",
            "Requirement already satisfied: pytz>=2020.1 in /usr/local/lib/python3.10/dist-packages (from pandas>=2.0.0->ortools) (2024.2)\n",
            "Requirement already satisfied: tzdata>=2022.7 in /usr/local/lib/python3.10/dist-packages (from pandas>=2.0.0->ortools) (2024.2)\n",
            "Requirement already satisfied: six>=1.5 in /usr/local/lib/python3.10/dist-packages (from python-dateutil>=2.8.2->pandas>=2.0.0->ortools) (1.16.0)\n",
            "Downloading ortools-9.11.4210-cp310-cp310-manylinux_2_17_x86_64.manylinux2014_x86_64.whl (28.1 MB)\n",
            "\u001b[2K   \u001b[90m━━━━━━━━━━━━━━━━━━━━━━━━━━━━━━━━━━━━━━━━\u001b[0m \u001b[32m28.1/28.1 MB\u001b[0m \u001b[31m47.3 MB/s\u001b[0m eta \u001b[36m0:00:00\u001b[0m\n",
            "\u001b[?25hDownloading absl_py-2.1.0-py3-none-any.whl (133 kB)\n",
            "\u001b[2K   \u001b[90m━━━━━━━━━━━━━━━━━━━━━━━━━━━━━━━━━━━━━━━━\u001b[0m \u001b[32m133.7/133.7 kB\u001b[0m \u001b[31m9.6 MB/s\u001b[0m eta \u001b[36m0:00:00\u001b[0m\n",
            "\u001b[?25hDownloading protobuf-5.26.1-cp37-abi3-manylinux2014_x86_64.whl (302 kB)\n",
            "\u001b[2K   \u001b[90m━━━━━━━━━━━━━━━━━━━━━━━━━━━━━━━━━━━━━━━━\u001b[0m \u001b[32m302.8/302.8 kB\u001b[0m \u001b[31m19.6 MB/s\u001b[0m eta \u001b[36m0:00:00\u001b[0m\n",
            "\u001b[?25hInstalling collected packages: protobuf, absl-py, ortools\n",
            "  Attempting uninstall: protobuf\n",
            "    Found existing installation: protobuf 3.20.3\n",
            "    Uninstalling protobuf-3.20.3:\n",
            "      Successfully uninstalled protobuf-3.20.3\n",
            "  Attempting uninstall: absl-py\n",
            "    Found existing installation: absl-py 1.4.0\n",
            "    Uninstalling absl-py-1.4.0:\n",
            "      Successfully uninstalled absl-py-1.4.0\n",
            "\u001b[31mERROR: pip's dependency resolver does not currently take into account all the packages that are installed. This behaviour is the source of the following dependency conflicts.\n",
            "google-cloud-datastore 2.19.0 requires protobuf!=3.20.0,!=3.20.1,!=4.21.0,!=4.21.1,!=4.21.2,!=4.21.3,!=4.21.4,!=4.21.5,<5.0.0dev,>=3.19.5, but you have protobuf 5.26.1 which is incompatible.\n",
            "google-cloud-firestore 2.16.1 requires protobuf!=3.20.0,!=3.20.1,!=4.21.0,!=4.21.1,!=4.21.2,!=4.21.3,!=4.21.4,!=4.21.5,<5.0.0dev,>=3.19.5, but you have protobuf 5.26.1 which is incompatible.\n",
            "tensorboard 2.17.0 requires protobuf!=4.24.0,<5.0.0,>=3.19.6, but you have protobuf 5.26.1 which is incompatible.\n",
            "tensorflow 2.17.0 requires protobuf!=4.21.0,!=4.21.1,!=4.21.2,!=4.21.3,!=4.21.4,!=4.21.5,<5.0.0dev,>=3.20.3, but you have protobuf 5.26.1 which is incompatible.\n",
            "tensorflow-metadata 1.16.1 requires protobuf<4.21,>=3.20.3; python_version < \"3.11\", but you have protobuf 5.26.1 which is incompatible.\u001b[0m\u001b[31m\n",
            "\u001b[0mSuccessfully installed absl-py-2.1.0 ortools-9.11.4210 protobuf-5.26.1\n"
          ]
        }
      ]
    },
    {
      "cell_type": "code",
      "source": [
        "import random\n",
        "from ortools.constraint_solver import routing_enums_pb2\n",
        "from ortools.constraint_solver import pywrapcp\n",
        "\n",
        "\n",
        "def generate_data(size):\n",
        "    \"\"\"Generates a random distance matrix based on the given size.\"\"\"\n",
        "    distance_matrix = []\n",
        "    for i in range(size):\n",
        "        row = []\n",
        "        for j in range(size):\n",
        "            if i == j:\n",
        "                row.append(0)\n",
        "            else:\n",
        "                row.append(random.randint(10, 100))  # Random distance between 10 and 100 miles\n",
        "        distance_matrix.append(row)\n",
        "    return distance_matrix\n",
        "\n",
        "\n",
        "def create_data_model(distance_matrix):\n",
        "    \"\"\"Stores the data for the problem.\"\"\"\n",
        "    data = {}\n",
        "    data[\"distance_matrix\"] = distance_matrix\n",
        "    data[\"num_vehicles\"] = 1\n",
        "    data[\"depot\"] = 0\n",
        "    return data\n",
        "\n",
        "\n",
        "def print_solution(manager, routing, solution):\n",
        "    \"\"\"Prints solution on console.\"\"\"\n",
        "    print(f\"Objective: {solution.ObjectiveValue()} miles\")\n",
        "    index = routing.Start(0)\n",
        "    plan_output = \"Route for vehicle 0:\\n\"\n",
        "    route_distance = 0\n",
        "    while not routing.IsEnd(index):\n",
        "        plan_output += f\" {manager.IndexToNode(index)} ->\"\n",
        "        previous_index = index\n",
        "        index = solution.Value(routing.NextVar(index))\n",
        "        route_distance += routing.GetArcCostForVehicle(previous_index, index, 0)\n",
        "    plan_output += f\" {manager.IndexToNode(index)}\\n\"\n",
        "    print(plan_output)\n",
        "    plan_output += f\"Route distance: {route_distance} miles\\n\"\n",
        "\n",
        "\n",
        "def main():\n",
        "    \"\"\"Entry point of the program.\"\"\"\n",
        "    # Sizes to test\n",
        "    sizes = [5, 10, 15, 20]  # Example sizes for the TSP problem\n",
        "\n",
        "    for size in sizes:\n",
        "        print(f\"Solving TSP for {size} cities\")\n",
        "\n",
        "        # Generate random data for the current size\n",
        "        distance_matrix = generate_data(size)\n",
        "        data = create_data_model(distance_matrix)\n",
        "\n",
        "        # Create the routing index manager.\n",
        "        manager = pywrapcp.RoutingIndexManager(\n",
        "            len(data[\"distance_matrix\"]), data[\"num_vehicles\"], data[\"depot\"]\n",
        "        )\n",
        "\n",
        "        # Create Routing Model.\n",
        "        routing = pywrapcp.RoutingModel(manager)\n",
        "\n",
        "        def distance_callback(from_index, to_index):\n",
        "            \"\"\"Returns the distance between the two nodes.\"\"\"\n",
        "            # Convert from routing variable Index to distance matrix NodeIndex.\n",
        "            from_node = manager.IndexToNode(from_index)\n",
        "            to_node = manager.IndexToNode(to_index)\n",
        "            return data[\"distance_matrix\"][from_node][to_node]\n",
        "\n",
        "        transit_callback_index = routing.RegisterTransitCallback(distance_callback)\n",
        "\n",
        "        # Define cost of each arc.\n",
        "        routing.SetArcCostEvaluatorOfAllVehicles(transit_callback_index)\n",
        "\n",
        "        # Setting first solution heuristic.\n",
        "        search_parameters = pywrapcp.DefaultRoutingSearchParameters()\n",
        "        search_parameters.first_solution_strategy = (\n",
        "            routing_enums_pb2.FirstSolutionStrategy.PATH_CHEAPEST_ARC\n",
        "        )\n",
        "\n",
        "        # Solve the problem.\n",
        "        solution = routing.SolveWithParameters(search_parameters)\n",
        "\n",
        "        # Print solution on console.\n",
        "        if solution:\n",
        "            print_solution(manager, routing, solution)\n",
        "        else:\n",
        "            print(\"No solution found.\")\n",
        "\n",
        "if __name__ == \"__main__\":\n",
        "    main()\n"
      ],
      "metadata": {
        "colab": {
          "base_uri": "https://localhost:8080/"
        },
        "id": "QPBLkr5Bj1cn",
        "outputId": "639f9866-d686-457d-d24a-5482d66a92dc"
      },
      "execution_count": 7,
      "outputs": [
        {
          "output_type": "stream",
          "name": "stdout",
          "text": [
            "Solving TSP for 5 cities\n",
            "Objective: 131 miles\n",
            "Route for vehicle 0:\n",
            " 0 -> 1 -> 3 -> 4 -> 2 -> 0\n",
            "\n",
            "Solving TSP for 10 cities\n",
            "Objective: 290 miles\n",
            "Route for vehicle 0:\n",
            " 0 -> 9 -> 7 -> 4 -> 6 -> 5 -> 8 -> 1 -> 3 -> 2 -> 0\n",
            "\n",
            "Solving TSP for 15 cities\n",
            "Objective: 336 miles\n",
            "Route for vehicle 0:\n",
            " 0 -> 5 -> 2 -> 8 -> 7 -> 9 -> 10 -> 3 -> 14 -> 4 -> 11 -> 13 -> 6 -> 12 -> 1 -> 0\n",
            "\n",
            "Solving TSP for 20 cities\n",
            "Objective: 378 miles\n",
            "Route for vehicle 0:\n",
            " 0 -> 1 -> 11 -> 12 -> 13 -> 7 -> 6 -> 9 -> 5 -> 2 -> 18 -> 15 -> 10 -> 17 -> 8 -> 14 -> 4 -> 19 -> 16 -> 3 -> 0\n",
            "\n"
          ]
        }
      ]
    },
    {
      "cell_type": "markdown",
      "source": [
        "### Time elapsed"
      ],
      "metadata": {
        "id": "NerGHhCKnaE0"
      }
    },
    {
      "cell_type": "code",
      "source": [
        "import random\n",
        "import time\n",
        "from ortools.constraint_solver import routing_enums_pb2\n",
        "from ortools.constraint_solver import pywrapcp\n",
        "import itertools\n",
        "import pulp\n",
        "\n",
        "def solve_tsp(distance_matrix):\n",
        "    num_cities = len(distance_matrix)\n",
        "\n",
        "    # Define the problem\n",
        "    model = pulp.LpProblem(\"TSP\", pulp.LpMinimize)\n",
        "\n",
        "    # Variables: Binary variables to decide if city i is connected to city j\n",
        "    x = pulp.LpVariable.dicts(\"x\", [(i, j) for i in range(num_cities) for j in range(num_cities)], cat=\"Binary\")\n",
        "\n",
        "    # Objective: Minimize total travel distance\n",
        "    model += pulp.lpSum(distance_matrix[i][j] * x[i, j] for i in range(num_cities) for j in range(num_cities) if i != j)\n",
        "\n",
        "    # Constraints\n",
        "    # 1. Each city must be entered and left exactly once\n",
        "    for i in range(num_cities):\n",
        "        model += pulp.lpSum(x[i, j] for j in range(num_cities) if i != j) == 1\n",
        "        model += pulp.lpSum(x[j, i] for j in range(num_cities) if i != j) == 1\n",
        "\n",
        "    # Subtour elimination (to prevent smaller loops within the tour)\n",
        "    u = pulp.LpVariable.dicts(\"u\", range(num_cities), lowBound=0, upBound=num_cities-1, cat=\"Integer\")\n",
        "    for i in range(1, num_cities):\n",
        "        for j in range(1, num_cities):\n",
        "            if i != j:\n",
        "                model += u[i] - u[j] + num_cities * x[i, j] <= num_cities - 1\n",
        "\n",
        "    # Solve the model\n",
        "    model.solve()\n",
        "\n",
        "    # # Check if solution is optimal\n",
        "    # if model.status == pulp.LpStatusOptimal:\n",
        "    #     # Extract the tour\n",
        "    #     tour = []\n",
        "    #     current_city = 0  # assuming the tour starts from city 0 (depot)\n",
        "    #     while len(tour) < num_cities:\n",
        "    #         for j in range(num_cities):\n",
        "    #             if pulp.value(x[current_city, j]) == 1:\n",
        "    #                 tour.append(j)\n",
        "    #                 current_city = j\n",
        "    #                 break\n",
        "\n",
        "    #     # Calculate total distance\n",
        "    #     total_distance = pulp.value(model.objective)\n",
        "    #     print(\"Tour:\", tour)\n",
        "    #     print(\"Total Distance:\", total_distance)\n",
        "    # else:\n",
        "    #     print(\"No optimal solution found.\")\n",
        "\n",
        "def held_karp(dist):\n",
        "    \"\"\"\n",
        "    Held-Karp algorithm to solve TSP\n",
        "    :param dist: distance matrix\n",
        "    :return: minimum cost and the path\n",
        "    \"\"\"\n",
        "    n = len(dist)\n",
        "    C = {}\n",
        "\n",
        "    # Initialize the dictionary C with distances between pairs of cities\n",
        "    for i in range(1, n):\n",
        "        C[(i, frozenset([i]))] = dist[0][i]\n",
        "\n",
        "    # Solve the problem using dynamic programming\n",
        "    for size in range(2, n):\n",
        "        for subset in itertools.combinations(range(1, n), size):\n",
        "            subset = frozenset(subset)\n",
        "            for next_node in subset:\n",
        "                prev_subset = subset - frozenset([next_node])\n",
        "                C[(next_node, subset)] = min(\n",
        "                    C[(k, prev_subset)] + dist[k][next_node]\n",
        "                    for k in prev_subset\n",
        "                )\n",
        "\n",
        "    # Reconstruct the optimal path\n",
        "    tour = []\n",
        "    subset = frozenset(range(1, n))\n",
        "    last_node = 0\n",
        "    while subset:\n",
        "        # Find the node that leads to the minimum cost\n",
        "        next_node = min(\n",
        "            subset,\n",
        "            key=lambda x: C[(x, subset)] + dist[x][last_node]\n",
        "        )\n",
        "        tour.append(last_node)\n",
        "        subset = subset - frozenset([next_node])\n",
        "        last_node = next_node\n",
        "\n",
        "    # Add the starting node to complete the cycle\n",
        "    tour.append(last_node)\n",
        "    tour.append(0)  # Return to the starting point\n",
        "\n",
        "def generate_data(size):\n",
        "    \"\"\"Generates a random distance matrix based on the given size.\"\"\"\n",
        "    distance_matrix = []\n",
        "    for i in range(size):\n",
        "        row = []\n",
        "        for j in range(size):\n",
        "            if i == j:\n",
        "                row.append(0)\n",
        "            else:\n",
        "                row.append(random.randint(10, 100))  # Random distance between 10 and 100 miles\n",
        "        distance_matrix.append(row)\n",
        "    return distance_matrix\n",
        "\n",
        "\n",
        "def create_data_model(distance_matrix):\n",
        "    \"\"\"Stores the data for the problem.\"\"\"\n",
        "    data = {}\n",
        "    data[\"distance_matrix\"] = distance_matrix\n",
        "    data[\"num_vehicles\"] = 1\n",
        "    data[\"depot\"] = 0\n",
        "    return data\n",
        "\n",
        "\n",
        "def print_solution(manager, routing, solution):\n",
        "    \"\"\"Prints solution on console.\"\"\"\n",
        "    print(f\"Objective: {solution.ObjectiveValue()} miles\")\n",
        "    index = routing.Start(0)\n",
        "    plan_output = \"Route for vehicle 0:\\n\"\n",
        "    route_distance = 0\n",
        "    while not routing.IsEnd(index):\n",
        "        plan_output += f\" {manager.IndexToNode(index)} ->\"\n",
        "        previous_index = index\n",
        "        index = solution.Value(routing.NextVar(index))\n",
        "        route_distance += routing.GetArcCostForVehicle(previous_index, index, 0)\n",
        "    plan_output += f\" {manager.IndexToNode(index)}\\n\"\n",
        "    print(plan_output)\n",
        "    plan_output += f\"Route distance: {route_distance} miles\\n\"\n",
        "\n",
        "time_or=[]\n",
        "time_dp=[]\n",
        "time_pulp=[]\n",
        "sizes=[10,20,30,40,50,70,100,150,200,250,300]\n",
        "dist=[]\n",
        "for n in sizes:\n",
        "    distance_matrix = generate_data(n)\n",
        "    dist.append(distance_matrix)\n",
        "def f(time_or,time_dp,dist):\n",
        "    \"\"\"Entry point of the program.\"\"\"\n",
        "    for size, distance_matrix in enumerate(dist):\n",
        "        print(f\"Solving TSP for {size} cities\")\n",
        "\n",
        "        # # Generate random data for the current size\n",
        "        # distance_matrix = generate_data(size)\n",
        "        data = create_data_model(distance_matrix)\n",
        "\n",
        "        # Create the routing index manager.\n",
        "        manager = pywrapcp.RoutingIndexManager(\n",
        "            len(data[\"distance_matrix\"]), data[\"num_vehicles\"], data[\"depot\"]\n",
        "        )\n",
        "\n",
        "        # Create Routing Model.\n",
        "        routing = pywrapcp.RoutingModel(manager)\n",
        "\n",
        "        def distance_callback(from_index, to_index):\n",
        "            \"\"\"Returns the distance between the two nodes.\"\"\"\n",
        "            # Convert from routing variable Index to distance matrix NodeIndex.\n",
        "            from_node = manager.IndexToNode(from_index)\n",
        "            to_node = manager.IndexToNode(to_index)\n",
        "            return data[\"distance_matrix\"][from_node][to_node]\n",
        "\n",
        "        transit_callback_index = routing.RegisterTransitCallback(distance_callback)\n",
        "\n",
        "        # Define cost of each arc.\n",
        "        routing.SetArcCostEvaluatorOfAllVehicles(transit_callback_index)\n",
        "\n",
        "        # Setting first solution heuristic.\n",
        "        search_parameters = pywrapcp.DefaultRoutingSearchParameters()\n",
        "        search_parameters.first_solution_strategy = (\n",
        "            routing_enums_pb2.FirstSolutionStrategy.PATH_CHEAPEST_ARC\n",
        "        )\n",
        "\n",
        "        # Start timing\n",
        "        start_time = time.time()\n",
        "\n",
        "        # Solve the problem.\n",
        "        solution = routing.SolveWithParameters(search_parameters)\n",
        "\n",
        "        # End timing\n",
        "        end_time = time.time()\n",
        "        # # Print solution on console.\n",
        "        # if solution:\n",
        "        #     print_solution(manager, routing, solution)\n",
        "        # else:\n",
        "        #     print(\"No solution found.\")\n",
        "\n",
        "        # # Print time taken\n",
        "        elapsed_time = end_time - start_time\n",
        "        time_or.append(elapsed_time)\n",
        "        # start_time = time.time()\n",
        "        # held_karp(distance_matrix)\n",
        "        # end_time = time.time()\n",
        "        # t=end_time - start_time\n",
        "        # time_dp.append(t)\n",
        "        start_time = time.time()\n",
        "        solve_tsp(distance_matrix)\n",
        "        end_time = time.time()\n",
        "        t=end_time - start_time\n",
        "        time_pulp.append(t)\n",
        "\n",
        "f(time_or,time_dp,dist)"
      ],
      "metadata": {
        "colab": {
          "base_uri": "https://localhost:8080/"
        },
        "id": "wIQvp4ZRlLkW",
        "outputId": "403417ec-a590-425c-98e9-6b802f2226e4"
      },
      "execution_count": 22,
      "outputs": [
        {
          "output_type": "stream",
          "name": "stdout",
          "text": [
            "Solving TSP for 0 cities\n",
            "Solving TSP for 1 cities\n",
            "Solving TSP for 2 cities\n",
            "Solving TSP for 3 cities\n",
            "Solving TSP for 4 cities\n",
            "Solving TSP for 5 cities\n",
            "Solving TSP for 6 cities\n",
            "Solving TSP for 7 cities\n",
            "Solving TSP for 8 cities\n",
            "Solving TSP for 9 cities\n",
            "Solving TSP for 10 cities\n"
          ]
        }
      ]
    },
    {
      "cell_type": "code",
      "source": [
        "time_or"
      ],
      "metadata": {
        "colab": {
          "base_uri": "https://localhost:8080/"
        },
        "id": "me4Q-CWrpakw",
        "outputId": "f4e32b55-12d6-4d2e-b782-1378ab1afb61"
      },
      "execution_count": 23,
      "outputs": [
        {
          "output_type": "execute_result",
          "data": {
            "text/plain": [
              "[0.002362966537475586,\n",
              " 0.011350631713867188,\n",
              " 0.02198052406311035,\n",
              " 0.053913116455078125,\n",
              " 0.10304450988769531,\n",
              " 0.28005290031433105,\n",
              " 0.31662750244140625,\n",
              " 0.9609634876251221,\n",
              " 2.188504457473755,\n",
              " 2.7395284175872803,\n",
              " 8.911316394805908]"
            ]
          },
          "metadata": {},
          "execution_count": 23
        }
      ]
    },
    {
      "cell_type": "code",
      "source": [
        "time_dp"
      ],
      "metadata": {
        "colab": {
          "base_uri": "https://localhost:8080/"
        },
        "id": "dHeAfhpCpdbF",
        "outputId": "c6974bcc-ba67-4677-b28b-83c455eef422"
      },
      "execution_count": 24,
      "outputs": [
        {
          "output_type": "execute_result",
          "data": {
            "text/plain": [
              "[]"
            ]
          },
          "metadata": {},
          "execution_count": 24
        }
      ]
    },
    {
      "cell_type": "code",
      "source": [
        "time_pulp"
      ],
      "metadata": {
        "colab": {
          "base_uri": "https://localhost:8080/"
        },
        "id": "x46IvsUNuCux",
        "outputId": "00849ca8-3f3a-4d15-bd1f-b83008ced016"
      },
      "execution_count": 25,
      "outputs": [
        {
          "output_type": "execute_result",
          "data": {
            "text/plain": [
              "[0.15700912475585938,\n",
              " 0.3452935218811035,\n",
              " 1.0530142784118652,\n",
              " 4.620120525360107,\n",
              " 12.144517421722412,\n",
              " 2.838992118835449,\n",
              " 69.7533233165741,\n",
              " 339.06629395484924,\n",
              " 171.72476267814636,\n",
              " 249.30227208137512,\n",
              " 637.3562550544739]"
            ]
          },
          "metadata": {},
          "execution_count": 25
        }
      ]
    },
    {
      "cell_type": "code",
      "source": [
        "import matplotlib.pyplot as plt\n",
        "plt.figure(figsize=(12, 8))\n",
        "for solver, times in zip(['PuLP', 'OR-Tools'], [time_pulp, time_or]):\n",
        "    plt.plot(sizes, times, marker='o', label=solver)\n",
        "\n",
        "plt.xlabel('Problem Size)')\n",
        "plt.ylabel('Execution Time (seconds)')\n",
        "plt.title('Scalability of Solvers on TSP')\n",
        "plt.legend()\n",
        "plt.grid(True)\n",
        "# plt.yscale('log')  # Log scale if execution times vary widely\n",
        "plt.show()\n"
      ],
      "metadata": {
        "colab": {
          "base_uri": "https://localhost:8080/",
          "height": 718
        },
        "id": "0XnzfF2a0EvP",
        "outputId": "6c28ab9a-7fb0-4246-ace1-d689969a223a"
      },
      "execution_count": 31,
      "outputs": [
        {
          "output_type": "display_data",
          "data": {
            "text/plain": [
              "<Figure size 1200x800 with 1 Axes>"
            ],
            "image/png": "[encoded data removed]"
          },
          "metadata": {}
        }
      ]
    },
    {
      "cell_type": "code",
      "source": [
        "import matplotlib.pyplot as plt\n",
        "plt.figure(figsize=(12, 8))\n",
        "for solver, times in zip(['PuLP', 'OR-Tools'], [time_pulp, time_or]):\n",
        "    plt.plot(sizes, times, marker='o', label=solver)\n",
        "\n",
        "plt.xlabel('Problem Size')\n",
        "plt.ylabel('Execution Time (seconds)')\n",
        "plt.title('Scalability of Solvers on TSP')\n",
        "plt.legend()\n",
        "plt.grid(True)\n",
        "plt.yscale('log')  # Log scale if execution times vary widely\n",
        "plt.show()\n"
      ],
      "metadata": {
        "colab": {
          "base_uri": "https://localhost:8080/",
          "height": 718
        },
        "id": "z3OSbzRnyzPQ",
        "outputId": "27e59229-145d-422b-d132-db7071ff7bfd"
      },
      "execution_count": 32,
      "outputs": [
        {
          "output_type": "display_data",
          "data": {
            "text/plain": [
              "<Figure size 1200x800 with 1 Axes>"
            ],
            "image/png": "[encoded data removed]"
          },
          "metadata": {}
        }
      ]
    },
    {
      "cell_type": "code",
      "source": [
        "\"\"\"Simple Travelling Salesperson Problem (TSP) between cities.\"\"\"\n",
        "\n",
        "from ortools.constraint_solver import routing_enums_pb2\n",
        "from ortools.constraint_solver import pywrapcp\n",
        "\n",
        "\n",
        "def create_data_model(distance_matrix):\n",
        "    \"\"\"Stores the data for the problem.\"\"\"\n",
        "    data = {}\n",
        "    data[\"distance_matrix\"] = distance_matrix\n",
        "    data[\"num_vehicles\"] = 1\n",
        "    data[\"depot\"] = 0\n",
        "    return data\n",
        "\n",
        "\n",
        "def print_solution(manager, routing, solution):\n",
        "    \"\"\"Prints solution on console.\"\"\"\n",
        "    print(f\"Objective: {solution.ObjectiveValue()} miles\")\n",
        "    index = routing.Start(0)\n",
        "    plan_output = \"Route for vehicle 0:\\n\"\n",
        "    route_distance = 0\n",
        "    while not routing.IsEnd(index):\n",
        "        plan_output += f\" {manager.IndexToNode(index)} ->\"\n",
        "        previous_index = index\n",
        "        index = solution.Value(routing.NextVar(index))\n",
        "        route_distance += routing.GetArcCostForVehicle(previous_index, index, 0)\n",
        "    plan_output += f\" {manager.IndexToNode(index)}\\n\"\n",
        "    print(plan_output)\n",
        "    plan_output += f\"Route distance: {route_distance}miles\\n\"\n",
        "\n",
        "\n",
        "def f(distance_matrix):\n",
        "    \"\"\"Entry point of the program.\"\"\"\n",
        "    # Instantiate the data problem.\n",
        "    data = create_data_model(distance_matrix)\n",
        "\n",
        "    # Create the routing index manager.\n",
        "    manager = pywrapcp.RoutingIndexManager(\n",
        "        len(data[\"distance_matrix\"]), data[\"num_vehicles\"], data[\"depot\"]\n",
        "    )\n",
        "\n",
        "    # Create Routing Model.\n",
        "    routing = pywrapcp.RoutingModel(manager)\n",
        "\n",
        "\n",
        "    def distance_callback(from_index, to_index):\n",
        "        \"\"\"Returns the distance between the two nodes.\"\"\"\n",
        "        # Convert from routing variable Index to distance matrix NodeIndex.\n",
        "        from_node = manager.IndexToNode(from_index)\n",
        "        to_node = manager.IndexToNode(to_index)\n",
        "        return data[\"distance_matrix\"][from_node][to_node]\n",
        "\n",
        "    transit_callback_index = routing.RegisterTransitCallback(distance_callback)\n",
        "\n",
        "    # Define cost of each arc.\n",
        "    routing.SetArcCostEvaluatorOfAllVehicles(transit_callback_index)\n",
        "\n",
        "    # Setting first solution heuristic.\n",
        "    search_parameters = pywrapcp.DefaultRoutingSearchParameters()\n",
        "    search_parameters.first_solution_strategy = (\n",
        "        routing_enums_pb2.FirstSolutionStrategy.PATH_CHEAPEST_ARC\n",
        "    )\n",
        "\n",
        "    # Solve the problem.\n",
        "    solution = routing.SolveWithParameters(search_parameters)\n",
        "\n",
        "    # Print solution on console.\n",
        "    if solution:\n",
        "        print_solution(manager, routing, solution)\n",
        "\n",
        "for i in dist:\n",
        "  f(i)"
      ],
      "metadata": {
        "colab": {
          "base_uri": "https://localhost:8080/"
        },
        "id": "DdsoYiramgxC",
        "outputId": "b3c2567a-5e88-461a-dad5-afdcaec191a5"
      },
      "execution_count": 6,
      "outputs": [
        {
          "output_type": "stream",
          "name": "stdout",
          "text": [
            "Objective: 249 miles\n",
            "Route for vehicle 0:\n",
            " 0 -> 9 -> 3 -> 5 -> 4 -> 7 -> 8 -> 2 -> 1 -> 6 -> 0\n",
            "\n",
            "Objective: 364 miles\n",
            "Route for vehicle 0:\n",
            " 0 -> 15 -> 5 -> 3 -> 19 -> 9 -> 10 -> 17 -> 13 -> 12 -> 11 -> 14 -> 4 -> 16 -> 7 -> 1 -> 2 -> 6 -> 8 -> 18 -> 0\n",
            "\n",
            "Objective: 509 miles\n",
            "Route for vehicle 0:\n",
            " 0 -> 23 -> 24 -> 18 -> 8 -> 11 -> 12 -> 2 -> 1 -> 25 -> 20 -> 21 -> 6 -> 4 -> 9 -> 17 -> 16 -> 19 -> 10 -> 29 -> 22 -> 3 -> 7 -> 13 -> 26 -> 28 -> 14 -> 15 -> 27 -> 5 -> 0\n",
            "\n",
            "Objective: 605 miles\n",
            "Route for vehicle 0:\n",
            " 0 -> 18 -> 23 -> 30 -> 22 -> 34 -> 3 -> 1 -> 39 -> 5 -> 37 -> 29 -> 36 -> 6 -> 7 -> 17 -> 35 -> 10 -> 14 -> 4 -> 13 -> 32 -> 12 -> 16 -> 11 -> 19 -> 2 -> 20 -> 38 -> 9 -> 28 -> 26 -> 15 -> 24 -> 8 -> 27 -> 21 -> 25 -> 31 -> 33 -> 0\n",
            "\n"
          ]
        }
      ]
    },
    {
      "cell_type": "code",
      "source": [
        "import itertools\n",
        "\n",
        "def held_karp(dist):\n",
        "    \"\"\"\n",
        "    Held-Karp algorithm to solve TSP\n",
        "    :param dist: distance matrix\n",
        "    :return: minimum cost and the path\n",
        "    \"\"\"\n",
        "    n = len(dist)\n",
        "    C = {}\n",
        "\n",
        "    # Initialize the dictionary C with distances between pairs of cities\n",
        "    for i in range(1, n):\n",
        "        C[(i, frozenset([i]))] = dist[0][i]\n",
        "\n",
        "    # Solve the problem using dynamic programming\n",
        "    for size in range(2, n):\n",
        "        for subset in itertools.combinations(range(1, n), size):\n",
        "            subset = frozenset(subset)\n",
        "            for next_node in subset:\n",
        "                prev_subset = subset - frozenset([next_node])\n",
        "                C[(next_node, subset)] = min(\n",
        "                    C[(k, prev_subset)] + dist[k][next_node]\n",
        "                    for k in prev_subset\n",
        "                )\n",
        "\n",
        "    # Reconstruct the optimal path\n",
        "    tour = []\n",
        "    subset = frozenset(range(1, n))\n",
        "    last_node = 0\n",
        "    while subset:\n",
        "        # Find the node that leads to the minimum cost\n",
        "        next_node = min(\n",
        "            subset,\n",
        "            key=lambda x: C[(x, subset)] + dist[x][last_node]\n",
        "        )\n",
        "        tour.append(last_node)\n",
        "        subset = subset - frozenset([next_node])\n",
        "        last_node = next_node\n",
        "\n",
        "    # Add the starting node to complete the cycle\n",
        "    tour.append(last_node)\n",
        "    tour.append(0)  # Return to the starting point\n",
        "\n",
        "    # Calculate the minimum cost by including the return to the start\n",
        "    min_cost = sum(dist[tour[i]][tour[i+1]] for i in range(len(tour) - 1))\n",
        "\n",
        "    return min_cost, tour\n",
        "\n",
        "def main():\n",
        "    # Example distance matrix for the TSP\n",
        "    dist = [[0, 28, 37, 91, 46, 38, 90, 93, 38, 21],\n",
        " [25, 0, 35, 76, 30, 46, 22, 34, 42, 15],\n",
        " [20, 18, 0, 100, 57, 83, 96, 22, 85, 91],\n",
        " [13, 38, 77, 0, 67, 12, 29, 100, 22, 63],\n",
        " [51, 56, 50, 12, 0, 16, 49, 21, 77, 35],\n",
        " [94, 78, 86, 100, 21, 0, 18, 58, 24, 83],\n",
        " [26, 88, 44, 91, 57, 23, 0, 60, 91, 46],\n",
        " [48, 22, 75, 59, 39, 11, 41, 0, 41, 98],\n",
        " [75, 100, 53, 71, 98, 81, 82, 98, 0, 98],\n",
        " [47, 49, 100, 14, 69, 71, 48, 43, 60, 0]]\n",
        "    # Compute the optimal solution using Held-Karp algorithm\n",
        "    min_cost, tour = held_karp(dist)\n",
        "    print(f\"Minimum cost: {min_cost}\")\n",
        "    print(f\"Optimal path: {tour}\")\n",
        "\n",
        "if __name__ == \"__main__\":\n",
        "    main()\n"
      ],
      "metadata": {
        "colab": {
          "base_uri": "https://localhost:8080/"
        },
        "id": "U5u7SDVmm5Bw",
        "outputId": "992acc0b-dafa-4db8-a7b3-ad43b3260b2a"
      },
      "execution_count": 11,
      "outputs": [
        {
          "output_type": "stream",
          "name": "stdout",
          "text": [
            "Minimum cost: 567\n",
            "Optimal path: [0, 6, 5, 7, 4, 1, 2, 8, 3, 9, 0]\n"
          ]
        }
      ]
    },
    {
      "cell_type": "code",
      "source": [
        "import pulp\n",
        "\n",
        "def solve_tsp(distance_matrix):\n",
        "    num_cities = len(distance_matrix)\n",
        "\n",
        "    # Define the problem\n",
        "    model = pulp.LpProblem(\"TSP\", pulp.LpMinimize)\n",
        "\n",
        "    # Variables: Binary variables to decide if city i is connected to city j\n",
        "    x = pulp.LpVariable.dicts(\"x\", [(i, j) for i in range(num_cities) for j in range(num_cities)], cat=\"Binary\")\n",
        "\n",
        "    # Objective: Minimize total travel distance\n",
        "    model += pulp.lpSum(distance_matrix[i][j] * x[i, j] for i in range(num_cities) for j in range(num_cities) if i != j)\n",
        "\n",
        "    # Constraints\n",
        "    # 1. Each city must be entered and left exactly once\n",
        "    for i in range(num_cities):\n",
        "        model += pulp.lpSum(x[i, j] for j in range(num_cities) if i != j) == 1\n",
        "        model += pulp.lpSum(x[j, i] for j in range(num_cities) if i != j) == 1\n",
        "\n",
        "    # Subtour elimination (to prevent smaller loops within the tour)\n",
        "    u = pulp.LpVariable.dicts(\"u\", range(num_cities), lowBound=0, upBound=num_cities-1, cat=\"Integer\")\n",
        "    for i in range(1, num_cities):\n",
        "        for j in range(1, num_cities):\n",
        "            if i != j:\n",
        "                model += u[i] - u[j] + num_cities * x[i, j] <= num_cities - 1\n",
        "\n",
        "    # Solve the model\n",
        "    model.solve()\n",
        "\n",
        "    # Check if solution is optimal\n",
        "    if model.status == pulp.LpStatusOptimal:\n",
        "        # Extract the tour\n",
        "        tour = []\n",
        "        current_city = 0  # assuming the tour starts from city 0 (depot)\n",
        "        while len(tour) < num_cities:\n",
        "            for j in range(num_cities):\n",
        "                if pulp.value(x[current_city, j]) == 1:\n",
        "                    tour.append(j)\n",
        "                    current_city = j\n",
        "                    break\n",
        "\n",
        "        # Calculate total distance\n",
        "        total_distance = pulp.value(model.objective)\n",
        "        print(\"Tour:\", tour)\n",
        "        print(\"Total Distance:\", total_distance)\n",
        "    else:\n",
        "        print(\"No optimal solution found.\")\n",
        "\n",
        "# Example usage\n",
        "# for distance_matrix in dist:\n",
        "solve_tsp(dist[0])\n"
      ],
      "metadata": {
        "colab": {
          "base_uri": "https://localhost:8080/"
        },
        "id": "8cJOrD2jqtLB",
        "outputId": "c43938f5-a89d-4599-ebbe-7324f423e5a3"
      },
      "execution_count": 12,
      "outputs": [
        {
          "output_type": "stream",
          "name": "stdout",
          "text": [
            "Tour: [9, 3, 8, 2, 1, 4, 7, 5, 6, 0]\n",
            "Total Distance: 234.0\n"
          ]
        }
      ]
    },
    {
      "cell_type": "code",
      "source": [
        "dist[0]"
      ],
      "metadata": {
        "colab": {
          "base_uri": "https://localhost:8080/"
        },
        "id": "x2xFTLZXxqIM",
        "outputId": "8cee55e1-d9fb-4f81-b13a-83623e958467"
      },
      "execution_count": 10,
      "outputs": [
        {
          "output_type": "execute_result",
          "data": {
            "text/plain": [
              "[[0, 28, 37, 91, 46, 38, 90, 93, 38, 21],\n",
              " [25, 0, 35, 76, 30, 46, 22, 34, 42, 15],\n",
              " [20, 18, 0, 100, 57, 83, 96, 22, 85, 91],\n",
              " [13, 38, 77, 0, 67, 12, 29, 100, 22, 63],\n",
              " [51, 56, 50, 12, 0, 16, 49, 21, 77, 35],\n",
              " [94, 78, 86, 100, 21, 0, 18, 58, 24, 83],\n",
              " [26, 88, 44, 91, 57, 23, 0, 60, 91, 46],\n",
              " [48, 22, 75, 59, 39, 11, 41, 0, 41, 98],\n",
              " [75, 100, 53, 71, 98, 81, 82, 98, 0, 98],\n",
              " [47, 49, 100, 14, 69, 71, 48, 43, 60, 0]]"
            ]
          },
          "metadata": {},
          "execution_count": 10
        }
      ]
    },
    {
      "cell_type": "code",
      "source": [
        "# Open a file to write\n",
        "with open('array_2d111.txt', 'w') as file:\n",
        "    for row in dist:\n",
        "        # Join the elements of each row as a string and write it to the file\n",
        "        file.write(\"\\t\".join(map(str, row)) + \"\\n\")\n",
        "\n",
        "print(\"Array saved successfully to 'array_2d.txt'!\")"
      ],
      "metadata": {
        "colab": {
          "base_uri": "https://localhost:8080/"
        },
        "id": "L4V05uXM0Oca",
        "outputId": "c2aeabce-5cf0-4069-c527-0991509eda59"
      },
      "execution_count": 28,
      "outputs": [
        {
          "output_type": "stream",
          "name": "stdout",
          "text": [
            "Array saved successfully to 'array_2d.txt'!\n"
          ]
        }
      ]
    },
    {
      "cell_type": "code",
      "source": [
        "import pandas as pd"
      ],
      "metadata": {
        "id": "xC9vzZ79_kN7"
      },
      "execution_count": 30,
      "outputs": []
    },
    {
      "cell_type": "code",
      "source": [
        "df=pd.DataFrame({'size':sizes, 'pulp': time_pulp, 'OR-Tools': time_or})"
      ],
      "metadata": {
        "id": "-CnMGv7FBHSg"
      },
      "execution_count": 33,
      "outputs": []
    },
    {
      "cell_type": "code",
      "source": [
        "df.to_csv('TSP.csv',index=None)"
      ],
      "metadata": {
        "id": "WneYwVM6B0ZA"
      },
      "execution_count": 35,
      "outputs": []
    }
  ]
}